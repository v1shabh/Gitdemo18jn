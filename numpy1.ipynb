{
  "nbformat": 4,
  "nbformat_minor": 0,
  "metadata": {
    "colab": {
      "provenance": []
    },
    "kernelspec": {
      "name": "python3",
      "display_name": "Python 3"
    },
    "language_info": {
      "name": "python"
    }
  },
  "cells": [
    {
      "cell_type": "markdown",
      "source": [
        "**NUMPY :**\n",
        "NumPy is a Python library that provides a simple yet powerful data structure: the n-dimensional array.\n",
        "This is the foundation on which almost all the power of Python's data science toolkit is built,\n",
        "Numpy stands for numerical python.\n",
        "\n",
        "Numpy fuctionaity is used other  popular packages including Pandas and matlbplot.\n",
        "Numpy written in C which much faster than python.\n",
        "numpy array are used with homogenous (same) data types only,on the other hand list uses diffrent or any datatype.\n",
        "Numpy has ability to divide up sub-task and run them parallel.\n",
        "\n",
        "\n",
        "\n"
      ],
      "metadata": {
        "id": "x4Wby_Ptgeuz"
      }
    },
    {
      "cell_type": "markdown",
      "source": [
        "\n",
        "USES -->\n",
        "1:Efficient Numerical Computation\n",
        "2:Array Operations\n",
        "3:Data Manipulation\n",
        "4:Integration with Other Libraries."
      ],
      "metadata": {
        "id": "J9sK6_ZvbWfD"
      }
    },
    {
      "cell_type": "markdown",
      "source": [
        "INSTALLING NUMPY: pip install numpy\n"
      ],
      "metadata": {
        "id": "p31TedpYKpSS"
      }
    },
    {
      "cell_type": "markdown",
      "source": [
        "IMPORTING NUMPY : import numpy as np"
      ],
      "metadata": {
        "id": "_XC3aqajLeXQ"
      }
    },
    {
      "cell_type": "code",
      "source": [
        "import numpy as np\n",
        "arr=np.array([1,2,3,4,5,6])\n",
        "print(arr)"
      ],
      "metadata": {
        "colab": {
          "base_uri": "https://localhost:8080/"
        },
        "id": "ouiApnLZLkjG",
        "outputId": "e08065ad-4df1-49f2-da07-179b3ef742a3"
      },
      "execution_count": 1,
      "outputs": [
        {
          "output_type": "stream",
          "name": "stdout",
          "text": [
            "[1 2 3 4 5 6]\n"
          ]
        }
      ]
    },
    {
      "cell_type": "markdown",
      "source": [
        "DIMENSIONS IN ARRAYS #\n",
        "\n",
        "1-D ARRAY\n",
        "2-D ARRAY\n",
        "3-D ARRAY\n",
        "4-D ARRAY\n"
      ],
      "metadata": {
        "id": "a4wfdvvzMq5F"
      }
    },
    {
      "cell_type": "code",
      "source": [
        "import numpy as np\n",
        "a=np.array(42) # 0-dimension\n",
        "b=np.array([1,2,3,4,5]) # 1-dimension\n",
        "c=np.array([[1,2,3],[4,5,6]]) # 2-dimension\n",
        "d=np.array([[[1,2,3],[4,5,6],[7,8,9]]]) # 3-dimension\n",
        "print(a,\"\\n\")\n",
        "print(b,\"\\n\")\n",
        "print(c,\"\\n\")\n",
        "print(d,\"\\n\")"
      ],
      "metadata": {
        "colab": {
          "base_uri": "https://localhost:8080/"
        },
        "id": "97M4Rs0JM266",
        "outputId": "6ef85c70-e6ef-4669-f5b9-97928c905974"
      },
      "execution_count": 20,
      "outputs": [
        {
          "output_type": "stream",
          "name": "stdout",
          "text": [
            "42 \n",
            "\n",
            "[1 2 3 4 5] \n",
            "\n",
            "[[1 2 3]\n",
            " [4 5 6]] \n",
            "\n",
            "[[[1 2 3]\n",
            "  [4 5 6]\n",
            "  [7 8 9]]] \n",
            "\n"
          ]
        }
      ]
    },
    {
      "cell_type": "markdown",
      "source": [
        "ACCESSING ELEMENTS FROM ARRAY :"
      ],
      "metadata": {
        "id": "RYje7RXvN3GB"
      }
    },
    {
      "cell_type": "markdown",
      "source": [],
      "metadata": {
        "id": "ROy06dIKOG7h"
      }
    },
    {
      "cell_type": "code",
      "source": [
        "\n",
        "import numpy as np\n",
        "arr=np.array([1,34,3,45600,4,4,5,5,96,7,89,855])\n",
        "print(arr[9:])\n",
        "print(arr[-3:])\n",
        "\n",
        "print(type(arr))"
      ],
      "metadata": {
        "colab": {
          "base_uri": "https://localhost:8080/"
        },
        "id": "XRyb4Rl3OJyO",
        "outputId": "810cff35-b3bd-4b15-d665-46764a13abd6"
      },
      "execution_count": 4,
      "outputs": [
        {
          "output_type": "stream",
          "name": "stdout",
          "text": [
            "[  7  89 855]\n",
            "[  7  89 855]\n",
            "<class 'numpy.ndarray'>\n"
          ]
        }
      ]
    },
    {
      "cell_type": "code",
      "source": [
        "arr.size"
      ],
      "metadata": {
        "colab": {
          "base_uri": "https://localhost:8080/"
        },
        "id": "eGhEwj7YOnXz",
        "outputId": "61707d87-6831-4117-c106-7f498872e29d"
      },
      "execution_count": 7,
      "outputs": [
        {
          "output_type": "execute_result",
          "data": {
            "text/plain": [
              "12"
            ]
          },
          "metadata": {},
          "execution_count": 7
        }
      ]
    },
    {
      "cell_type": "code",
      "source": [
        "import numpy as np\n",
        "arr3=np.random.randint(1,200,(5,10,5))\n",
        "arr3"
      ],
      "metadata": {
        "colab": {
          "base_uri": "https://localhost:8080/"
        },
        "id": "FsZdmNFvOVME",
        "outputId": "b2be28c5-0a09-4ddc-aa36-4fd13d70f889"
      },
      "execution_count": 8,
      "outputs": [
        {
          "output_type": "execute_result",
          "data": {
            "text/plain": [
              "array([[[139, 113, 175,  68,  94],\n",
              "        [ 77,  92, 187,  42,  77],\n",
              "        [ 83,  53, 161,  86, 147],\n",
              "        [ 99,  58, 146,   2,  68],\n",
              "        [  7,  15,  10,  87,  34],\n",
              "        [178, 132, 172,  17, 139],\n",
              "        [  8, 117, 116,  55,  80],\n",
              "        [ 10, 146,  48,  69,  66],\n",
              "        [ 78,  93,  28,  25,  89],\n",
              "        [178,  98, 167, 104, 182]],\n",
              "\n",
              "       [[197, 194, 160, 146, 149],\n",
              "        [165, 104, 145, 110,  91],\n",
              "        [ 58, 101, 113, 107, 138],\n",
              "        [ 17,  21, 145,  96,  56],\n",
              "        [  3,  38,   5,   2,  47],\n",
              "        [164,  41,  14,  20, 123],\n",
              "        [ 16,  69, 147,  59,  87],\n",
              "        [ 53, 136, 133, 104,  54],\n",
              "        [104, 139, 171, 115, 121],\n",
              "        [ 97, 133, 112,  32, 185]],\n",
              "\n",
              "       [[158, 175,  16, 120, 110],\n",
              "        [159, 110,   9, 148,  26],\n",
              "        [173,  53, 144, 180,  11],\n",
              "        [139, 110,  66,  17,  13],\n",
              "        [ 52, 131, 172, 156, 162],\n",
              "        [137,  16,   7,  51, 110],\n",
              "        [ 30,  65, 178, 118, 173],\n",
              "        [ 93,  30,  90, 152, 147],\n",
              "        [ 17, 138, 148, 165,  19],\n",
              "        [106,  95, 149,  93, 123]],\n",
              "\n",
              "       [[108,   7,  83, 148,  66],\n",
              "        [ 52, 133,  92,  83, 108],\n",
              "        [149,  66,  48, 101,   9],\n",
              "        [ 36, 167, 153,  74,  10],\n",
              "        [ 71, 125, 149, 160, 178],\n",
              "        [118, 178,  34,  23, 169],\n",
              "        [ 98, 159,  46,  96,  43],\n",
              "        [133, 187,  38, 109, 171],\n",
              "        [ 75, 100,  51, 172,  25],\n",
              "        [134, 188,  25,  68, 157]],\n",
              "\n",
              "       [[ 71,  58,  49,  72,  42],\n",
              "        [ 91,  88,  22, 197, 161],\n",
              "        [ 25, 141, 192, 113, 136],\n",
              "        [188, 154, 168,   6,  81],\n",
              "        [152, 169,  71,  89,  99],\n",
              "        [ 94, 156, 178, 184,  11],\n",
              "        [198, 139,  61,  37, 179],\n",
              "        [ 11, 111,  48,  34, 101],\n",
              "        [183, 115, 125,   2,  22],\n",
              "        [120, 158, 179, 163,  79]]])"
            ]
          },
          "metadata": {},
          "execution_count": 8
        }
      ]
    },
    {
      "cell_type": "markdown",
      "source": [
        "access with table , row and column."
      ],
      "metadata": {
        "id": "ZBrwxHGFRjtQ"
      }
    },
    {
      "cell_type": "code",
      "source": [
        "arr3[-5:-3,-1:]"
      ],
      "metadata": {
        "colab": {
          "base_uri": "https://localhost:8080/"
        },
        "id": "xViBSIjmQJ5L",
        "outputId": "f1454bba-76bb-4179-da11-58a4bf9241ed"
      },
      "execution_count": 16,
      "outputs": [
        {
          "output_type": "execute_result",
          "data": {
            "text/plain": [
              "array([[[178,  98, 167, 104, 182]],\n",
              "\n",
              "       [[ 97, 133, 112,  32, 185]]])"
            ]
          },
          "metadata": {},
          "execution_count": 16
        }
      ]
    },
    {
      "cell_type": "code",
      "source": [
        "arr3[0:5,6: ]"
      ],
      "metadata": {
        "colab": {
          "base_uri": "https://localhost:8080/"
        },
        "id": "V_El14wvRtJA",
        "outputId": "dfd13cae-92d6-4b15-ef4a-2b8e7b613f6a"
      },
      "execution_count": 18,
      "outputs": [
        {
          "output_type": "execute_result",
          "data": {
            "text/plain": [
              "array([[[  8, 117, 116,  55,  80],\n",
              "        [ 10, 146,  48,  69,  66],\n",
              "        [ 78,  93,  28,  25,  89],\n",
              "        [178,  98, 167, 104, 182]],\n",
              "\n",
              "       [[ 16,  69, 147,  59,  87],\n",
              "        [ 53, 136, 133, 104,  54],\n",
              "        [104, 139, 171, 115, 121],\n",
              "        [ 97, 133, 112,  32, 185]],\n",
              "\n",
              "       [[ 30,  65, 178, 118, 173],\n",
              "        [ 93,  30,  90, 152, 147],\n",
              "        [ 17, 138, 148, 165,  19],\n",
              "        [106,  95, 149,  93, 123]],\n",
              "\n",
              "       [[ 98, 159,  46,  96,  43],\n",
              "        [133, 187,  38, 109, 171],\n",
              "        [ 75, 100,  51, 172,  25],\n",
              "        [134, 188,  25,  68, 157]],\n",
              "\n",
              "       [[198, 139,  61,  37, 179],\n",
              "        [ 11, 111,  48,  34, 101],\n",
              "        [183, 115, 125,   2,  22],\n",
              "        [120, 158, 179, 163, 500]]])"
            ]
          },
          "metadata": {},
          "execution_count": 18
        }
      ]
    },
    {
      "cell_type": "markdown",
      "source": [
        "access with row and column"
      ],
      "metadata": {
        "id": "-2hGt9s-RdNv"
      }
    },
    {
      "cell_type": "code",
      "source": [
        "arr3[0:3]"
      ],
      "metadata": {
        "colab": {
          "base_uri": "https://localhost:8080/"
        },
        "id": "_6XZOGuKOU1c",
        "outputId": "ca4474b8-9103-4e4e-e566-38f0add81198"
      },
      "execution_count": 11,
      "outputs": [
        {
          "output_type": "execute_result",
          "data": {
            "text/plain": [
              "array([[[139, 113, 175,  68,  94],\n",
              "        [ 77,  92, 187,  42,  77],\n",
              "        [ 83,  53, 161,  86, 147],\n",
              "        [ 99,  58, 146,   2,  68],\n",
              "        [  7,  15,  10,  87,  34],\n",
              "        [178, 132, 172,  17, 139],\n",
              "        [  8, 117, 116,  55,  80],\n",
              "        [ 10, 146,  48,  69,  66],\n",
              "        [ 78,  93,  28,  25,  89],\n",
              "        [178,  98, 167, 104, 182]],\n",
              "\n",
              "       [[197, 194, 160, 146, 149],\n",
              "        [165, 104, 145, 110,  91],\n",
              "        [ 58, 101, 113, 107, 138],\n",
              "        [ 17,  21, 145,  96,  56],\n",
              "        [  3,  38,   5,   2,  47],\n",
              "        [164,  41,  14,  20, 123],\n",
              "        [ 16,  69, 147,  59,  87],\n",
              "        [ 53, 136, 133, 104,  54],\n",
              "        [104, 139, 171, 115, 121],\n",
              "        [ 97, 133, 112,  32, 185]],\n",
              "\n",
              "       [[158, 175,  16, 120, 110],\n",
              "        [159, 110,   9, 148,  26],\n",
              "        [173,  53, 144, 180,  11],\n",
              "        [139, 110,  66,  17,  13],\n",
              "        [ 52, 131, 172, 156, 162],\n",
              "        [137,  16,   7,  51, 110],\n",
              "        [ 30,  65, 178, 118, 173],\n",
              "        [ 93,  30,  90, 152, 147],\n",
              "        [ 17, 138, 148, 165,  19],\n",
              "        [106,  95, 149,  93, 123]]])"
            ]
          },
          "metadata": {},
          "execution_count": 11
        }
      ]
    },
    {
      "cell_type": "code",
      "source": [
        "arr3[0:,-1]"
      ],
      "metadata": {
        "colab": {
          "base_uri": "https://localhost:8080/"
        },
        "id": "tW9wtRAtPGeP",
        "outputId": "256a0405-f014-49a6-8f68-bf02256e643a"
      },
      "execution_count": 14,
      "outputs": [
        {
          "output_type": "execute_result",
          "data": {
            "text/plain": [
              "array([[178,  98, 167, 104, 182],\n",
              "       [ 97, 133, 112,  32, 185],\n",
              "       [106,  95, 149,  93, 123],\n",
              "       [134, 188,  25,  68, 157],\n",
              "       [120, 158, 179, 163, 500]])"
            ]
          },
          "metadata": {},
          "execution_count": 14
        }
      ]
    },
    {
      "cell_type": "code",
      "source": [],
      "metadata": {
        "id": "8Pe-6JopPGby"
      },
      "execution_count": null,
      "outputs": []
    },
    {
      "cell_type": "markdown",
      "source": [
        "REPLACING ONE ELEMENT WITH ANOTHER ONE"
      ],
      "metadata": {
        "id": "6R_1_WwPRDF8"
      }
    },
    {
      "cell_type": "code",
      "source": [
        "arr3[-1,-1,-1]=500\n",
        "arr3"
      ],
      "metadata": {
        "colab": {
          "base_uri": "https://localhost:8080/"
        },
        "id": "_Ia6QeCLPGY3",
        "outputId": "7aa4e048-c132-4061-da25-5cf9b336fabd"
      },
      "execution_count": 17,
      "outputs": [
        {
          "output_type": "execute_result",
          "data": {
            "text/plain": [
              "array([[[139, 113, 175,  68,  94],\n",
              "        [ 77,  92, 187,  42,  77],\n",
              "        [ 83,  53, 161,  86, 147],\n",
              "        [ 99,  58, 146,   2,  68],\n",
              "        [  7,  15,  10,  87,  34],\n",
              "        [178, 132, 172,  17, 139],\n",
              "        [  8, 117, 116,  55,  80],\n",
              "        [ 10, 146,  48,  69,  66],\n",
              "        [ 78,  93,  28,  25,  89],\n",
              "        [178,  98, 167, 104, 182]],\n",
              "\n",
              "       [[197, 194, 160, 146, 149],\n",
              "        [165, 104, 145, 110,  91],\n",
              "        [ 58, 101, 113, 107, 138],\n",
              "        [ 17,  21, 145,  96,  56],\n",
              "        [  3,  38,   5,   2,  47],\n",
              "        [164,  41,  14,  20, 123],\n",
              "        [ 16,  69, 147,  59,  87],\n",
              "        [ 53, 136, 133, 104,  54],\n",
              "        [104, 139, 171, 115, 121],\n",
              "        [ 97, 133, 112,  32, 185]],\n",
              "\n",
              "       [[158, 175,  16, 120, 110],\n",
              "        [159, 110,   9, 148,  26],\n",
              "        [173,  53, 144, 180,  11],\n",
              "        [139, 110,  66,  17,  13],\n",
              "        [ 52, 131, 172, 156, 162],\n",
              "        [137,  16,   7,  51, 110],\n",
              "        [ 30,  65, 178, 118, 173],\n",
              "        [ 93,  30,  90, 152, 147],\n",
              "        [ 17, 138, 148, 165,  19],\n",
              "        [106,  95, 149,  93, 123]],\n",
              "\n",
              "       [[108,   7,  83, 148,  66],\n",
              "        [ 52, 133,  92,  83, 108],\n",
              "        [149,  66,  48, 101,   9],\n",
              "        [ 36, 167, 153,  74,  10],\n",
              "        [ 71, 125, 149, 160, 178],\n",
              "        [118, 178,  34,  23, 169],\n",
              "        [ 98, 159,  46,  96,  43],\n",
              "        [133, 187,  38, 109, 171],\n",
              "        [ 75, 100,  51, 172,  25],\n",
              "        [134, 188,  25,  68, 157]],\n",
              "\n",
              "       [[ 71,  58,  49,  72,  42],\n",
              "        [ 91,  88,  22, 197, 161],\n",
              "        [ 25, 141, 192, 113, 136],\n",
              "        [188, 154, 168,   6,  81],\n",
              "        [152, 169,  71,  89,  99],\n",
              "        [ 94, 156, 178, 184,  11],\n",
              "        [198, 139,  61,  37, 179],\n",
              "        [ 11, 111,  48,  34, 101],\n",
              "        [183, 115, 125,   2,  22],\n",
              "        [120, 158, 179, 163, 500]]])"
            ]
          },
          "metadata": {},
          "execution_count": 17
        }
      ]
    },
    {
      "cell_type": "markdown",
      "source": [
        "RESHAPING ARRAY ------------"
      ],
      "metadata": {
        "id": "eLhIALEWSzEo"
      }
    },
    {
      "cell_type": "code",
      "source": [
        "np.arange(60)"
      ],
      "metadata": {
        "colab": {
          "base_uri": "https://localhost:8080/"
        },
        "id": "NaDmaxnGS7aa",
        "outputId": "83172fea-3443-4d28-da27-730661e8640d"
      },
      "execution_count": 21,
      "outputs": [
        {
          "output_type": "execute_result",
          "data": {
            "text/plain": [
              "array([ 0,  1,  2,  3,  4,  5,  6,  7,  8,  9, 10, 11, 12, 13, 14, 15, 16,\n",
              "       17, 18, 19, 20, 21, 22, 23, 24, 25, 26, 27, 28, 29, 30, 31, 32, 33,\n",
              "       34, 35, 36, 37, 38, 39, 40, 41, 42, 43, 44, 45, 46, 47, 48, 49, 50,\n",
              "       51, 52, 53, 54, 55, 56, 57, 58, 59])"
            ]
          },
          "metadata": {},
          "execution_count": 21
        }
      ]
    },
    {
      "cell_type": "code",
      "source": [
        "np.arange(60).reshape(20,3)"
      ],
      "metadata": {
        "colab": {
          "base_uri": "https://localhost:8080/"
        },
        "id": "DmrIiAoDTEpF",
        "outputId": "883db83f-1ee0-4088-bba5-2085d2bd16e1"
      },
      "execution_count": 22,
      "outputs": [
        {
          "output_type": "execute_result",
          "data": {
            "text/plain": [
              "array([[ 0,  1,  2],\n",
              "       [ 3,  4,  5],\n",
              "       [ 6,  7,  8],\n",
              "       [ 9, 10, 11],\n",
              "       [12, 13, 14],\n",
              "       [15, 16, 17],\n",
              "       [18, 19, 20],\n",
              "       [21, 22, 23],\n",
              "       [24, 25, 26],\n",
              "       [27, 28, 29],\n",
              "       [30, 31, 32],\n",
              "       [33, 34, 35],\n",
              "       [36, 37, 38],\n",
              "       [39, 40, 41],\n",
              "       [42, 43, 44],\n",
              "       [45, 46, 47],\n",
              "       [48, 49, 50],\n",
              "       [51, 52, 53],\n",
              "       [54, 55, 56],\n",
              "       [57, 58, 59]])"
            ]
          },
          "metadata": {},
          "execution_count": 22
        }
      ]
    },
    {
      "cell_type": "code",
      "source": [
        "arr45=np.arange(60).reshape(2,15,2)\n",
        "arr45"
      ],
      "metadata": {
        "colab": {
          "base_uri": "https://localhost:8080/"
        },
        "id": "a1TAHDaXTI0K",
        "outputId": "28412086-0c41-4baf-d963-58fd2c57e179"
      },
      "execution_count": 23,
      "outputs": [
        {
          "output_type": "execute_result",
          "data": {
            "text/plain": [
              "array([[[ 0,  1],\n",
              "        [ 2,  3],\n",
              "        [ 4,  5],\n",
              "        [ 6,  7],\n",
              "        [ 8,  9],\n",
              "        [10, 11],\n",
              "        [12, 13],\n",
              "        [14, 15],\n",
              "        [16, 17],\n",
              "        [18, 19],\n",
              "        [20, 21],\n",
              "        [22, 23],\n",
              "        [24, 25],\n",
              "        [26, 27],\n",
              "        [28, 29]],\n",
              "\n",
              "       [[30, 31],\n",
              "        [32, 33],\n",
              "        [34, 35],\n",
              "        [36, 37],\n",
              "        [38, 39],\n",
              "        [40, 41],\n",
              "        [42, 43],\n",
              "        [44, 45],\n",
              "        [46, 47],\n",
              "        [48, 49],\n",
              "        [50, 51],\n",
              "        [52, 53],\n",
              "        [54, 55],\n",
              "        [56, 57],\n",
              "        [58, 59]]])"
            ]
          },
          "metadata": {},
          "execution_count": 23
        }
      ]
    },
    {
      "cell_type": "code",
      "source": [
        "arr45.ravel() #from nd to 1d array"
      ],
      "metadata": {
        "colab": {
          "base_uri": "https://localhost:8080/"
        },
        "id": "j0tXmUTbTN8v",
        "outputId": "a8a0c109-5f9f-4096-aee0-4a77d69596a9"
      },
      "execution_count": 24,
      "outputs": [
        {
          "output_type": "execute_result",
          "data": {
            "text/plain": [
              "array([ 0,  1,  2,  3,  4,  5,  6,  7,  8,  9, 10, 11, 12, 13, 14, 15, 16,\n",
              "       17, 18, 19, 20, 21, 22, 23, 24, 25, 26, 27, 28, 29, 30, 31, 32, 33,\n",
              "       34, 35, 36, 37, 38, 39, 40, 41, 42, 43, 44, 45, 46, 47, 48, 49, 50,\n",
              "       51, 52, 53, 54, 55, 56, 57, 58, 59])"
            ]
          },
          "metadata": {},
          "execution_count": 24
        }
      ]
    },
    {
      "cell_type": "code",
      "source": [
        "arr45.flatten()"
      ],
      "metadata": {
        "colab": {
          "base_uri": "https://localhost:8080/"
        },
        "id": "qYiIn8muTTEh",
        "outputId": "aac84f25-1677-46e8-9f34-c3acd556a5a2"
      },
      "execution_count": 25,
      "outputs": [
        {
          "output_type": "execute_result",
          "data": {
            "text/plain": [
              "array([ 0,  1,  2,  3,  4,  5,  6,  7,  8,  9, 10, 11, 12, 13, 14, 15, 16,\n",
              "       17, 18, 19, 20, 21, 22, 23, 24, 25, 26, 27, 28, 29, 30, 31, 32, 33,\n",
              "       34, 35, 36, 37, 38, 39, 40, 41, 42, 43, 44, 45, 46, 47, 48, 49, 50,\n",
              "       51, 52, 53, 54, 55, 56, 57, 58, 59])"
            ]
          },
          "metadata": {},
          "execution_count": 25
        }
      ]
    },
    {
      "cell_type": "code",
      "source": [
        "arr=np.random.randint(1,200,(5,3))\n",
        "arr"
      ],
      "metadata": {
        "colab": {
          "base_uri": "https://localhost:8080/"
        },
        "id": "gMdl4DPWTYmk",
        "outputId": "ad56fca3-1750-493b-c39f-92780d19bc56"
      },
      "execution_count": 26,
      "outputs": [
        {
          "output_type": "execute_result",
          "data": {
            "text/plain": [
              "array([[167, 146, 197],\n",
              "       [  1, 118,   9],\n",
              "       [  8, 190,  50],\n",
              "       [ 68, 111,  78],\n",
              "       [108,  67, 163]])"
            ]
          },
          "metadata": {},
          "execution_count": 26
        }
      ]
    },
    {
      "cell_type": "code",
      "source": [
        "arr.shape"
      ],
      "metadata": {
        "colab": {
          "base_uri": "https://localhost:8080/"
        },
        "id": "AKy_qjdeTcG_",
        "outputId": "5f1bce80-258d-47d5-f067-93e1404a5ed3"
      },
      "execution_count": 27,
      "outputs": [
        {
          "output_type": "execute_result",
          "data": {
            "text/plain": [
              "(5, 3)"
            ]
          },
          "metadata": {},
          "execution_count": 27
        }
      ]
    },
    {
      "cell_type": "markdown",
      "source": [
        "MATH OPERATIONS -------------------"
      ],
      "metadata": {
        "id": "voJJXgwzUGFg"
      }
    },
    {
      "cell_type": "code",
      "source": [
        "import numpy as np\n",
        "a=np.array([1,3,5,6,9])\n",
        "a+10\n"
      ],
      "metadata": {
        "colab": {
          "base_uri": "https://localhost:8080/"
        },
        "id": "vzdPVz1MUMSm",
        "outputId": "f1e7efab-0bda-4157-8cd5-f7b94db1e5bd"
      },
      "execution_count": 31,
      "outputs": [
        {
          "output_type": "execute_result",
          "data": {
            "text/plain": [
              "array([11, 13, 15, 16, 19])"
            ]
          },
          "metadata": {},
          "execution_count": 31
        }
      ]
    },
    {
      "cell_type": "code",
      "source": [
        "a-10"
      ],
      "metadata": {
        "colab": {
          "base_uri": "https://localhost:8080/"
        },
        "id": "aXL8aYOcU6Y6",
        "outputId": "c27662e1-94b8-411b-ac05-5077efac5aa5"
      },
      "execution_count": 32,
      "outputs": [
        {
          "output_type": "execute_result",
          "data": {
            "text/plain": [
              "array([-9, -7, -5, -4, -1])"
            ]
          },
          "metadata": {},
          "execution_count": 32
        }
      ]
    },
    {
      "cell_type": "code",
      "source": [
        "a*10"
      ],
      "metadata": {
        "colab": {
          "base_uri": "https://localhost:8080/"
        },
        "id": "qWbwfHgXU6R-",
        "outputId": "e3fa4e24-9c97-45f6-969d-69214a6f67b7"
      },
      "execution_count": 33,
      "outputs": [
        {
          "output_type": "execute_result",
          "data": {
            "text/plain": [
              "array([10, 30, 50, 60, 90])"
            ]
          },
          "metadata": {},
          "execution_count": 33
        }
      ]
    },
    {
      "cell_type": "code",
      "source": [
        "a/10"
      ],
      "metadata": {
        "colab": {
          "base_uri": "https://localhost:8080/"
        },
        "id": "icm5s0qWU6L_",
        "outputId": "f307f212-f865-482c-a4cd-2a3bde8c2ecd"
      },
      "execution_count": 34,
      "outputs": [
        {
          "output_type": "execute_result",
          "data": {
            "text/plain": [
              "array([0.1, 0.3, 0.5, 0.6, 0.9])"
            ]
          },
          "metadata": {},
          "execution_count": 34
        }
      ]
    },
    {
      "cell_type": "code",
      "source": [
        "np.square(a)"
      ],
      "metadata": {
        "colab": {
          "base_uri": "https://localhost:8080/"
        },
        "id": "-HOKWQB9U6CN",
        "outputId": "bda8093f-022b-4f7d-ce07-5486956f904a"
      },
      "execution_count": 35,
      "outputs": [
        {
          "output_type": "execute_result",
          "data": {
            "text/plain": [
              "array([ 1,  9, 25, 36, 81])"
            ]
          },
          "metadata": {},
          "execution_count": 35
        }
      ]
    },
    {
      "cell_type": "code",
      "source": [
        "a=np.array([1,3,5])\n",
        "c=np.array([2,5,4])\n",
        "np.add(a,c) #Adding opertion of 2 d array"
      ],
      "metadata": {
        "colab": {
          "base_uri": "https://localhost:8080/"
        },
        "id": "NYQEV-c6VYRh",
        "outputId": "5925790a-2fcc-4d4e-e4a3-533fd7f946f6"
      },
      "execution_count": 40,
      "outputs": [
        {
          "output_type": "execute_result",
          "data": {
            "text/plain": [
              "array([3, 8, 9])"
            ]
          },
          "metadata": {},
          "execution_count": 40
        }
      ]
    },
    {
      "cell_type": "code",
      "source": [
        "np.subtract(a,c) #substract opertion of 2 d array"
      ],
      "metadata": {
        "colab": {
          "base_uri": "https://localhost:8080/"
        },
        "id": "TrsVWXkVWPvG",
        "outputId": "eccedff4-8b1f-4e40-d53b-69f582b92641"
      },
      "execution_count": 43,
      "outputs": [
        {
          "output_type": "execute_result",
          "data": {
            "text/plain": [
              "array([-1, -2,  1])"
            ]
          },
          "metadata": {},
          "execution_count": 43
        }
      ]
    },
    {
      "cell_type": "code",
      "source": [
        "np.multiply(a,c) #multiplication opertion of 2 d array"
      ],
      "metadata": {
        "colab": {
          "base_uri": "https://localhost:8080/"
        },
        "id": "HY0-UWaMWPq1",
        "outputId": "6f7f04e8-8e56-450b-fa63-d897bf9fdcda"
      },
      "execution_count": 42,
      "outputs": [
        {
          "output_type": "execute_result",
          "data": {
            "text/plain": [
              "array([ 2, 15, 20])"
            ]
          },
          "metadata": {},
          "execution_count": 42
        }
      ]
    },
    {
      "cell_type": "code",
      "source": [
        "np.divide(a,c) #divide opertion of 2 d array"
      ],
      "metadata": {
        "colab": {
          "base_uri": "https://localhost:8080/"
        },
        "id": "NVvqUcxAWPmL",
        "outputId": "55ce4af6-5109-4b9b-ca18-372e69b363f3"
      },
      "execution_count": 41,
      "outputs": [
        {
          "output_type": "execute_result",
          "data": {
            "text/plain": [
              "array([0.5 , 0.6 , 1.25])"
            ]
          },
          "metadata": {},
          "execution_count": 41
        }
      ]
    },
    {
      "cell_type": "markdown",
      "source": [
        "SUMMARY OPERATIONS ------------"
      ],
      "metadata": {
        "id": "Ny-xSKYvXsfg"
      }
    },
    {
      "cell_type": "code",
      "source": [
        "import numpy as np\n",
        "arr=np.random.randint(1,200,(5,3))\n",
        "arr"
      ],
      "metadata": {
        "colab": {
          "base_uri": "https://localhost:8080/"
        },
        "id": "aqxNiUM2XPDs",
        "outputId": "31b8eae0-38f3-430c-bb54-b785422c73df"
      },
      "execution_count": 44,
      "outputs": [
        {
          "output_type": "execute_result",
          "data": {
            "text/plain": [
              "array([[101, 131, 119],\n",
              "       [ 29,  98,  32],\n",
              "       [130, 119,  39],\n",
              "       [ 58, 155,  44],\n",
              "       [ 27, 128, 195]])"
            ]
          },
          "metadata": {},
          "execution_count": 44
        }
      ]
    },
    {
      "cell_type": "code",
      "source": [
        "arr.shape # calculate number pf rows and column"
      ],
      "metadata": {
        "colab": {
          "base_uri": "https://localhost:8080/"
        },
        "id": "jpdslE2HX9xg",
        "outputId": "552f2e08-d3e9-4790-f068-2995208fd194"
      },
      "execution_count": 45,
      "outputs": [
        {
          "output_type": "execute_result",
          "data": {
            "text/plain": [
              "(5, 3)"
            ]
          },
          "metadata": {},
          "execution_count": 45
        }
      ]
    },
    {
      "cell_type": "code",
      "source": [
        "np.transpose(arr).shape"
      ],
      "metadata": {
        "colab": {
          "base_uri": "https://localhost:8080/"
        },
        "id": "NSMnmhAyYD0V",
        "outputId": "3afc89fd-feaf-4afc-cc3a-8edc318850ea"
      },
      "execution_count": 46,
      "outputs": [
        {
          "output_type": "execute_result",
          "data": {
            "text/plain": [
              "(3, 5)"
            ]
          },
          "metadata": {},
          "execution_count": 46
        }
      ]
    },
    {
      "cell_type": "code",
      "source": [
        "arr123=arr.ravel()\n",
        "arr123"
      ],
      "metadata": {
        "colab": {
          "base_uri": "https://localhost:8080/"
        },
        "id": "IBoFlF9EYavd",
        "outputId": "748cf3b5-47f2-49d5-ee3e-d5aaff5150bf"
      },
      "execution_count": 48,
      "outputs": [
        {
          "output_type": "execute_result",
          "data": {
            "text/plain": [
              "array([101, 131, 119,  29,  98,  32, 130, 119,  39,  58, 155,  44,  27,\n",
              "       128, 195])"
            ]
          },
          "metadata": {},
          "execution_count": 48
        }
      ]
    },
    {
      "cell_type": "code",
      "source": [
        "arr123.max() # for max value"
      ],
      "metadata": {
        "colab": {
          "base_uri": "https://localhost:8080/"
        },
        "id": "VoiBi4YEYatA",
        "outputId": "38c9ad26-e8be-4f60-86a9-0cfef0afe27b"
      },
      "execution_count": 49,
      "outputs": [
        {
          "output_type": "execute_result",
          "data": {
            "text/plain": [
              "195"
            ]
          },
          "metadata": {},
          "execution_count": 49
        }
      ]
    },
    {
      "cell_type": "code",
      "source": [
        "arr123.min()# for min value"
      ],
      "metadata": {
        "colab": {
          "base_uri": "https://localhost:8080/"
        },
        "id": "xi7n7Nx_YaoA",
        "outputId": "a21fa58b-d263-4048-a710-d4eff7cb3a7e"
      },
      "execution_count": 50,
      "outputs": [
        {
          "output_type": "execute_result",
          "data": {
            "text/plain": [
              "27"
            ]
          },
          "metadata": {},
          "execution_count": 50
        }
      ]
    },
    {
      "cell_type": "code",
      "source": [
        "arr123.mean()# for mean value"
      ],
      "metadata": {
        "colab": {
          "base_uri": "https://localhost:8080/"
        },
        "id": "x_FrBuxTZF4a",
        "outputId": "80b481d1-11ec-43b8-b6c5-079285f590f2"
      },
      "execution_count": 51,
      "outputs": [
        {
          "output_type": "execute_result",
          "data": {
            "text/plain": [
              "93.66666666666667"
            ]
          },
          "metadata": {},
          "execution_count": 51
        }
      ]
    },
    {
      "cell_type": "code",
      "source": [
        "np.median(arr123) # for median"
      ],
      "metadata": {
        "colab": {
          "base_uri": "https://localhost:8080/"
        },
        "id": "HmaifJJ_ZF2F",
        "outputId": "96d498e4-a60b-4647-a090-fb5987ee849b"
      },
      "execution_count": 53,
      "outputs": [
        {
          "output_type": "execute_result",
          "data": {
            "text/plain": [
              "101.0"
            ]
          },
          "metadata": {},
          "execution_count": 53
        }
      ]
    },
    {
      "cell_type": "code",
      "source": [
        "arr.argmin() # for min position"
      ],
      "metadata": {
        "colab": {
          "base_uri": "https://localhost:8080/"
        },
        "id": "bk5rWPqUZFz_",
        "outputId": "2f1aa4ce-94c8-4f31-e95e-dea85a5cfff4"
      },
      "execution_count": 54,
      "outputs": [
        {
          "output_type": "execute_result",
          "data": {
            "text/plain": [
              "12"
            ]
          },
          "metadata": {},
          "execution_count": 54
        }
      ]
    },
    {
      "cell_type": "code",
      "source": [
        "arr.argmax()   # for max position"
      ],
      "metadata": {
        "colab": {
          "base_uri": "https://localhost:8080/"
        },
        "id": "yy0NX5B-ZFx6",
        "outputId": "447c14dc-3903-4e23-e941-1be7ac4b75df"
      },
      "execution_count": 55,
      "outputs": [
        {
          "output_type": "execute_result",
          "data": {
            "text/plain": [
              "14"
            ]
          },
          "metadata": {},
          "execution_count": 55
        }
      ]
    },
    {
      "cell_type": "code",
      "source": [
        "arr.sort() # sorting in ascending order\n",
        "arr"
      ],
      "metadata": {
        "colab": {
          "base_uri": "https://localhost:8080/"
        },
        "id": "oMlXR1KpZFvY",
        "outputId": "afbf86ff-fdbb-40d8-bdc8-484ea08fa5ab"
      },
      "execution_count": 56,
      "outputs": [
        {
          "output_type": "execute_result",
          "data": {
            "text/plain": [
              "array([[101, 119, 131],\n",
              "       [ 29,  32,  98],\n",
              "       [ 39, 119, 130],\n",
              "       [ 44,  58, 155],\n",
              "       [ 27, 128, 195]])"
            ]
          },
          "metadata": {},
          "execution_count": 56
        }
      ]
    },
    {
      "cell_type": "code",
      "source": [
        "arr[::-1] #for reverse order sorting"
      ],
      "metadata": {
        "colab": {
          "base_uri": "https://localhost:8080/"
        },
        "id": "Jzkq1aH6alZv",
        "outputId": "4671c23b-3966-43c8-d04a-18f0322108e4"
      },
      "execution_count": 57,
      "outputs": [
        {
          "output_type": "execute_result",
          "data": {
            "text/plain": [
              "array([[ 27, 128, 195],\n",
              "       [ 44,  58, 155],\n",
              "       [ 39, 119, 130],\n",
              "       [ 29,  32,  98],\n",
              "       [101, 119, 131]])"
            ]
          },
          "metadata": {},
          "execution_count": 57
        }
      ]
    },
    {
      "cell_type": "code",
      "source": [
        "arr.argsort()# sort acc to indexing"
      ],
      "metadata": {
        "colab": {
          "base_uri": "https://localhost:8080/"
        },
        "id": "qO7okyh4alWM",
        "outputId": "cd499614-b56e-43f9-c414-630047fd187a"
      },
      "execution_count": 58,
      "outputs": [
        {
          "output_type": "execute_result",
          "data": {
            "text/plain": [
              "array([[0, 1, 2],\n",
              "       [0, 1, 2],\n",
              "       [0, 1, 2],\n",
              "       [0, 1, 2],\n",
              "       [0, 1, 2]])"
            ]
          },
          "metadata": {},
          "execution_count": 58
        }
      ]
    },
    {
      "cell_type": "code",
      "source": [
        "arr.shape"
      ],
      "metadata": {
        "colab": {
          "base_uri": "https://localhost:8080/"
        },
        "id": "2LvunbQAalTR",
        "outputId": "148a829b-9c42-4a92-9da5-2600c61b1398"
      },
      "execution_count": 59,
      "outputs": [
        {
          "output_type": "execute_result",
          "data": {
            "text/plain": [
              "(5, 3)"
            ]
          },
          "metadata": {},
          "execution_count": 59
        }
      ]
    }
  ]
}